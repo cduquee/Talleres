{
 "cells": [
  {
   "cell_type": "markdown",
   "metadata": {},
   "source": [
    "<style>\n",
    "    h1 {\n",
    "    font-family: 'Segoe UI Semibold';\n",
    "    font-size: 35px;\n",
    "    text-align: center;\n",
    "  }\n",
    "</style>\n",
    "\n",
    "# Taller 9: Bases de Datos en la Nube (RDS)"
   ]
  },
  {
   "cell_type": "markdown",
   "metadata": {
    "vscode": {
     "languageId": "html"
    }
   },
   "source": [
    "\n",
    "<style>\n",
    "  .image {\n",
    "            overflow: hidden;\n",
    "            width: 100%;\n",
    "            border-radius: 20px;\n",
    "            object-fit: cover;\n",
    "            object-position: top center;\n",
    "        }\n",
    "  .container {\n",
    "            width: 100%;\n",
    "            height: 350px;\n",
    "        }\n",
    "\n",
    "</style>\n",
    "<div class=\"container\">\n",
    "    <img src= \"./img/sql-cloud.png\" class=\"image\"/>\n",
    "</div>"
   ]
  },
  {
   "cell_type": "markdown",
   "metadata": {},
   "source": [
    "<style>\n",
    "  p {\n",
    "    font-family: 'Segoe UI Light';\n",
    "    font-size: 20px;\n",
    "    text-align: center;\n",
    "  }\n",
    "</style>\n",
    "\n",
    "<div style=\"text-align: center;\">\n",
    "  Analítica Computacional para la Toma de Decisiones IIND-4130<br>\n",
    "  Universidad de los Andes &copy; 2024 <br>\n",
    "  21 de octubre de 2024 <br><br>\n",
    "  <strong>GRUPO:</strong> <br>\n",
    "  Camilo Duque - 202024289<br>\n",
    "  Sofia Buitrago – 202020742<br>\n",
    "</div>\n"
   ]
  },
  {
   "cell_type": "markdown",
   "metadata": {},
   "source": [
    "### **Importar Librerias**"
   ]
  },
  {
   "cell_type": "code",
   "execution_count": 4,
   "metadata": {},
   "outputs": [],
   "source": [
    "import psycopg2"
   ]
  },
  {
   "cell_type": "markdown",
   "metadata": {},
   "source": [
    "### **Connect a Base de Datos**"
   ]
  },
  {
   "cell_type": "code",
   "execution_count": 9,
   "metadata": {},
   "outputs": [],
   "source": [
    "engine = psycopg2.connect(\n",
    "dbname=\"bd_postgres\",\n",
    "user=\"cduquec\",\n",
    "password=\"1234Camilo\",\n",
    "host=\"database-camilo.c1y0em2ay3hc.us-east-1.rds.amazonaws.com\",\n",
    "port='5432'\n",
    ")"
   ]
  }
 ],
 "metadata": {
  "kernelspec": {
   "display_name": "venv.AC",
   "language": "python",
   "name": "python3"
  },
  "language_info": {
   "codemirror_mode": {
    "name": "ipython",
    "version": 3
   },
   "file_extension": ".py",
   "mimetype": "text/x-python",
   "name": "python",
   "nbconvert_exporter": "python",
   "pygments_lexer": "ipython3",
   "version": "3.11.5"
  }
 },
 "nbformat": 4,
 "nbformat_minor": 2
}
